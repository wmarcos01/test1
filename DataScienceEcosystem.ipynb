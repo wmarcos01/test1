{
 "cells": [
  {
   "cell_type": "markdown",
   "id": "e3a48d86-5ef3-4b5e-988f-3d3076017761",
   "metadata": {},
   "source": [
    "# Data Science Tools and Ecosystem"
   ]
  },
  {
   "cell_type": "markdown",
   "id": "c645e308-692f-4b53-a691-0b1f74f48e2d",
   "metadata": {},
   "source": [
    "In this notebook, Data Science Tools and Ecosystem are summarized."
   ]
  },
  {
   "cell_type": "markdown",
   "id": "a4dae381-147e-4382-902a-1300d2641a2d",
   "metadata": {},
   "source": [
    "**Objectives**\n",
    "Covered objectives on this notebook:\n",
    "- Some languages;\n",
    "- Some libraries;\n",
    "- How make a table on Jupyter using Python;\n",
    "- How make a simple arithmetic expression."
   ]
  },
  {
   "cell_type": "markdown",
   "id": "a0852f57-a6e4-4df4-8fc3-96c7d4efaa01",
   "metadata": {},
   "source": [
    "Some of the popular languages that Data Scientists use are:\n",
    "1. Python;\n",
    "2. R;\n",
    "3. C++;\n",
    "4. Java Script;"
   ]
  },
  {
   "cell_type": "markdown",
   "id": "74b6b330-2dda-4a98-ae28-876b328b8c89",
   "metadata": {},
   "source": [
    "Some of the commonly used libraries used by Data Scientists include:\n",
    "1. NumPy;\n",
    "2. SciPy;3.\n",
    "3. Pandas;\n",
    "4. Matplotlib;\n",
    "5. TensorFlow;\n"
   ]
  },
  {
   "cell_type": "markdown",
   "id": "f3b2791a-450c-403a-8df6-aaaa7efb47e1",
   "metadata": {},
   "source": [
    "| Data Science Tools |\n",
    "|--------------------|\n",
    "| Jupyter|\n",
    "| RS Studio|\n",
    "| Apache Spark|\n",
    "| Ray|\n"
   ]
  },
  {
   "cell_type": "markdown",
   "id": "50d25f9a-5607-4c68-8925-b4fdbaa1c635",
   "metadata": {},
   "source": [
    "### Below are a few examples of evaluating arithmetic expressions in Python"
   ]
  },
  {
   "cell_type": "markdown",
   "id": "566abbb3-6fa3-485a-9dea-0d43425cce07",
   "metadata": {},
   "source": [
    "This a simple arithmetic expression to mutiply then add integers"
   ]
  },
  {
   "cell_type": "code",
   "execution_count": 8,
   "id": "dc9fa8ff-d394-40d3-806f-db400112ff8c",
   "metadata": {},
   "outputs": [
    {
     "data": {
      "text/plain": [
       "17"
      ]
     },
     "execution_count": 8,
     "metadata": {},
     "output_type": "execute_result"
    }
   ],
   "source": [
    "(3*4)+5"
   ]
  },
  {
   "cell_type": "markdown",
   "id": "11f19951-33ff-4b85-9d27-c39d87b97363",
   "metadata": {},
   "source": [
    "This will convert 200 minutes to hours by diving by 60"
   ]
  },
  {
   "cell_type": "code",
   "execution_count": 9,
   "id": "b2fee9fd-33de-4097-a055-61639605ad64",
   "metadata": {},
   "outputs": [
    {
     "data": {
      "text/plain": [
       "3.3333333333333335"
      ]
     },
     "execution_count": 9,
     "metadata": {},
     "output_type": "execute_result"
    }
   ],
   "source": [
    "200/60"
   ]
  },
  {
   "cell_type": "markdown",
   "id": "c1914898-3591-43b6-9b8f-643c9b2c364c",
   "metadata": {},
   "source": [
    "## Author\n",
    "William Marcos Filho"
   ]
  }
 ],
 "metadata": {
  "kernelspec": {
   "display_name": "Python 3 (ipykernel)",
   "language": "python",
   "name": "python3"
  },
  "language_info": {
   "codemirror_mode": {
    "name": "ipython",
    "version": 3
   },
   "file_extension": ".py",
   "mimetype": "text/x-python",
   "name": "python",
   "nbconvert_exporter": "python",
   "pygments_lexer": "ipython3",
   "version": "3.11.5"
  }
 },
 "nbformat": 4,
 "nbformat_minor": 5
}
